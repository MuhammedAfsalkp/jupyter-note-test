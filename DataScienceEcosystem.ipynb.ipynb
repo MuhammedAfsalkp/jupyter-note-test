{
 "cells": [
  {
   "cell_type": "markdown",
   "id": "2feb4799-e383-4f85-bef4-5c1bb288b0b2",
   "metadata": {},
   "source": [
    "## Author\n",
    "Muhammed Afsal Kp"
   ]
  },
  {
   "cell_type": "code",
   "execution_count": null,
   "id": "b001e381-e902-44ae-abc5-c2f306f1d762",
   "metadata": {},
   "outputs": [],
   "source": []
  }
 ],
 "metadata": {
  "kernelspec": {
   "display_name": "Python 3 (ipykernel)",
   "language": "python",
   "name": "python3"
  },
  "language_info": {
   "codemirror_mode": {
    "name": "ipython",
    "version": 3
   },
   "file_extension": ".py",
   "mimetype": "text/x-python",
   "name": "python",
   "nbconvert_exporter": "python",
   "pygments_lexer": "ipython3",
   "version": "3.10.9"
  }
 },
 "nbformat": 4,
 "nbformat_minor": 5
}
